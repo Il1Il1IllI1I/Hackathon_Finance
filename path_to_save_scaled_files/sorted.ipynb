{
 "cells": [
  {
   "cell_type": "code",
   "execution_count": 3,
   "metadata": {},
   "outputs": [],
   "source": [
    "import pandas as pd\n",
    "import os\n",
    "\n",
    "# 변환할 파일들의 이름\n",
    "file_names = [\n",
    "    'con_tech_indicators_sorted_scaled.csv', 'dis_tech_indicators_sorted_scaled.csv',\n",
    "    'energy_tech_indicators_sorted_scaled.csv', 'finance_tech_indicators_sorted_scaled.csv',\n",
    "    'heavy_tech_indicators_sorted_scaled.csv', 'IT_tech_indicators_sorted_scaled.csv',\n",
    "    'staples_tech_indicators_sorted_scaled.csv', 'steels_tech_indicators_sorted_scaled.csv'\n",
    "]\n",
    "\n",
    "# 정렬된 파일을 저장할 폴더 생성\n",
    "sorted_dir = '../sorted_tech'\n",
    "os.makedirs(sorted_dir, exist_ok=True)\n",
    "\n",
    "# 각 파일에 대해 처리 진행\n",
    "for file_name in file_names:\n",
    "    # 데이터 로드\n",
    "    data = pd.read_csv(f'{file_name}')\n",
    "    \n",
    "    # 'Date' 칼럼을 datetime 객체로 변환 후 인덱스로 설정\n",
    "    data['Date'] = pd.to_datetime(data['Date'])\n",
    "    data.set_index('Date', inplace=True)\n",
    "    \n",
    "    # 데이터를 'Date' 인덱스로 오름차순 정렬\n",
    "    data.sort_index(inplace=True)\n",
    "    \n",
    "    # 정렬된 데이터 저장\n",
    "    # 파일명은 원래 파일명의 앞 3글자 + 'fin.csv'\n",
    "    new_file_name = file_name[:3] + 'fin.csv'\n",
    "    data.to_csv(os.path.join(sorted_dir, new_file_name))\n"
   ]
  }
 ],
 "metadata": {
  "kernelspec": {
   "display_name": "base",
   "language": "python",
   "name": "python3"
  },
  "language_info": {
   "codemirror_mode": {
    "name": "ipython",
    "version": 3
   },
   "file_extension": ".py",
   "mimetype": "text/x-python",
   "name": "python",
   "nbconvert_exporter": "python",
   "pygments_lexer": "ipython3",
   "version": "3.9.13"
  }
 },
 "nbformat": 4,
 "nbformat_minor": 2
}
