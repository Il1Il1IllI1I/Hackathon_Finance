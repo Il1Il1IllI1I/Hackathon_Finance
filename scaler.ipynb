{
 "cells": [
  {
   "cell_type": "code",
   "execution_count": 7,
   "metadata": {},
   "outputs": [],
   "source": [
    "import pandas as pd\n",
    "from sklearn.preprocessing import StandardScaler\n",
    "import os\n",
    "\n",
    "# 스케일링할 파일들의 이름\n",
    "file_names = [\n",
    "    'con_tech_indicators_sorted.csv', 'dis_tech_indicators_sorted.csv', 'energy_tech_indicators_sorted.csv', \n",
    "    'finance_tech_indicators_sorted.csv', 'heavy_tech_indicators_sorted.csv', 'IT_tech_indicators_sorted.csv', \n",
    "    'staples_tech_indicators_sorted.csv', 'steels_tech_indicators_sorted.csv'\n",
    "]\n",
    "\n",
    "# 스케일링된 파일을 저장할 폴더 생성\n",
    "scaled_dir = 'path_to_save_scaled_files'\n",
    "os.makedirs(scaled_dir, exist_ok=True)\n",
    "\n",
    "# 각 파일에 대해 스케일링 진행\n",
    "for file_name in file_names:\n",
    "    # 데이터 로드\n",
    "    data = pd.read_csv(f'Industry_csv/{file_name}')\n",
    "    \n",
    "    # 'Date' 칼럼 분리\n",
    "    date_column = data['Date']\n",
    "    data_to_scale = data.drop(columns=['Date'])\n",
    "    \n",
    "    # Z-score 스케일링 적용\n",
    "    scaler = StandardScaler()\n",
    "    scaled_data = pd.DataFrame(scaler.fit_transform(data_to_scale), columns=data_to_scale.columns)\n",
    "    \n",
    "    # 'Date' 칼럼 재결합\n",
    "    scaled_data['Date'] = date_column\n",
    "    \n",
    "    # 스케일링된 데이터 저장\n",
    "    scaled_file_name = file_name.replace('.csv', '_scaled.csv')\n",
    "    scaled_data.to_csv(os.path.join(scaled_dir, scaled_file_name), index=False)\n"
   ]
  }
 ],
 "metadata": {
  "kernelspec": {
   "display_name": "base",
   "language": "python",
   "name": "python3"
  },
  "language_info": {
   "codemirror_mode": {
    "name": "ipython",
    "version": 3
   },
   "file_extension": ".py",
   "mimetype": "text/x-python",
   "name": "python",
   "nbconvert_exporter": "python",
   "pygments_lexer": "ipython3",
   "version": "3.9.13"
  }
 },
 "nbformat": 4,
 "nbformat_minor": 2
}
