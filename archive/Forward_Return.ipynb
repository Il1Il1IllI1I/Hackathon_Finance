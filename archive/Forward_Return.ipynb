{
 "cells": [
  {
   "cell_type": "code",
   "execution_count": 27,
   "metadata": {},
   "outputs": [
    {
     "name": "stdout",
     "output_type": "stream",
     "text": [
      "[*********************100%***********************]  1 of 1 completed\n",
      "            KOSPI200 Forward_Return\n",
      "Date                               \n",
      "2011-04-01   2121.01          -1.25\n",
      "2011-04-04   2115.87          -0.72\n",
      "2011-04-05   2130.43          -0.22\n",
      "2011-04-06   2126.71           0.87\n",
      "2011-04-07   2122.14           1.87\n"
     ]
    }
   ],
   "source": [
    "import pandas as pd\n",
    "import yfinance as yf\n",
    "\n",
    "# KOSPI 200 데이터 가져오기\n",
    "kospi200 = yf.download(\"^KS11\", start=\"2011-04-01\", end=\"2023-10-04\")['Close']\n",
    "kospi200.name = 'KOSPI200'\n",
    "\n",
    "# 데이터프레임 생성\n",
    "data = pd.DataFrame(kospi200)\n",
    "\n",
    "# KOSPI 200의 값을 소수점 둘째 자리에서 반올림\n",
    "data['KOSPI200'] = data['KOSPI200'].round(2)\n",
    "\n",
    "# KOSPI 200의 전방 반환값 계산 (퍼센트로 변환하고 소수점 둘째 자리에서 반올림)\n",
    "forward_days = 60\n",
    "data['Forward_Return'] = ((data['KOSPI200'].shift(-forward_days) / data['KOSPI200']) - 1) * 100\n",
    "data['Forward_Return'] = data['Forward_Return'].round(2)\n",
    "\n",
    "# 'Forward_Return'에서 NaN 값을 '아직없음'으로 대체\n",
    "data['Forward_Return'].fillna('아직없음', inplace=True)\n",
    "\n",
    "# 필요한 경우 CSV로 저장\n",
    "data.to_csv('modified_data.csv')\n",
    "\n",
    "# 데이터의 처음 5행 출력\n",
    "print(data.head())\n"
   ]
  }
 ],
 "metadata": {
  "kernelspec": {
   "display_name": "base",
   "language": "python",
   "name": "python3"
  },
  "language_info": {
   "codemirror_mode": {
    "name": "ipython",
    "version": 3
   },
   "file_extension": ".py",
   "mimetype": "text/x-python",
   "name": "python",
   "nbconvert_exporter": "python",
   "pygments_lexer": "ipython3",
   "version": "3.9.13"
  }
 },
 "nbformat": 4,
 "nbformat_minor": 2
}
