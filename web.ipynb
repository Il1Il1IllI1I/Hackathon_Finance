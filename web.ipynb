{
 "cells": [
  {
   "cell_type": "code",
   "execution_count": 1,
   "metadata": {},
   "outputs": [
    {
     "name": "stderr",
     "output_type": "stream",
     "text": [
      "C:\\Users\\성현태\\AppData\\Local\\Temp\\ipykernel_20720\\2313466602.py:25: DeprecationWarning: executable_path has been deprecated, please pass in a Service object\n",
      "  driver = webdriver.Chrome(driver_path, options=option)\n"
     ]
    }
   ],
   "source": [
    "from selenium import webdriver\n",
    "from selenium.webdriver.chrome.options import Options\n",
    "import chromedriver_autoinstaller\n",
    "import subprocess\n",
    "import time\n",
    "import pandas as pd\n",
    "from datetime import datetime\n",
    "from selenium.webdriver.common.by import By\n",
    "import random\n",
    "\n",
    "sleep_time = random.uniform(1, 2)\n",
    "\n",
    "\n",
    "# 크롬 디버거로 크롬 구동\n",
    "subprocess.Popen(r'C:\\Program Files\\Google\\Chrome\\Application\\chrome.exe --remote-debugging-port=9222 --user-data-dir=\"C:\\chrometemp\"')\n",
    "time.sleep(3)  # 크롬이 완전히 실행될 때까지 대기\n",
    "\n",
    "# 웹드라이버 설정\n",
    "chrome_ver = chromedriver_autoinstaller.get_chrome_version().split('.')[0]\n",
    "driver_path = f'./{chrome_ver}/chromedriver.exe'\n",
    "option = Options()\n",
    "option.add_experimental_option(\"debuggerAddress\", \"127.0.0.1:9222\")\n",
    "\n",
    "try:\n",
    "    driver = webdriver.Chrome(driver_path, options=option)\n",
    "except:\n",
    "    chromedriver_autoinstaller.install(True)\n",
    "    driver = webdriver.Chrome(driver_path, options=option)\n",
    "\n",
    "driver.implicitly_wait(5)  # 웹 자원 로드를 위해 5초까지 기다림"
   ]
  },
  {
   "cell_type": "code",
   "execution_count": 16,
   "metadata": {},
   "outputs": [],
   "source": [
    "calender = driver.find_element(By.XPATH, '//*[@id=\"MDCSTAT007_FORM\"]/div[2]/div/table/tbody/tr[3]/td/div/div/button')\n",
    "\n",
    "calender.click()"
   ]
  },
  {
   "cell_type": "code",
   "execution_count": 42,
   "metadata": {},
   "outputs": [
    {
     "name": "stdout",
     "output_type": "stream",
     "text": [
      "['2', '3', '4', '5', '6', '9', '10', '11', '12', '13', '17', '18', '19', '20', '23', '24', '25', '26', '27', '30', '31']\n"
     ]
    }
   ],
   "source": [
    "def get_numeric_values(driver):\n",
    "    calender = driver.find_element(By.XPATH, '//*[@id=\"MDCSTAT007_FORM\"]/div[2]/div/table/tbody/tr[3]/td/div/div/button')\n",
    "    calender.click()\n",
    "    # a 태그 중에서 href 속성 값이 '#' 인 것들을 모두 찾기\n",
    "    elements = driver.find_elements(By.CSS_SELECTOR, \"a[href='#']\")\n",
    "    \n",
    "    # 숫자인 텍스트 값을 저장할 리스트\n",
    "    numeric_values = []\n",
    "    \n",
    "    for elem in elements:\n",
    "        text = elem.text  # 링크의 텍스트 값을 얻기\n",
    "        if text.isdigit():  # 텍스트 값이 숫자인지 확인\n",
    "            numeric_values.append(text)  # 숫자인 경우 리스트에 추가\n",
    "    \n",
    "    return numeric_values  # 리스트 반환\n",
    "\n",
    "\n",
    "# 함수를 호출하여 숫자인 텍스트 값을 얻기\n",
    "numeric_values = get_numeric_values(driver)\n",
    "\n",
    "# 반환된 리스트를 출력\n",
    "print(numeric_values)  # 예: ['1', '4', '5', '6', '7', ...]"
   ]
  },
  {
   "cell_type": "code",
   "execution_count": 43,
   "metadata": {},
   "outputs": [
    {
     "data": {
      "text/plain": [
       "['20070102', '20070103', '20070104', '20070105', '20070108']"
      ]
     },
     "execution_count": 43,
     "metadata": {},
     "output_type": "execute_result"
    }
   ],
   "source": [
    "import pandas as pd\n",
    "\n",
    "# CSV 파일에서 데이터를 로드합니다.\n",
    "file_path = 'feature.csv'\n",
    "data = pd.read_csv(file_path)\n",
    "\n",
    "# date 칼럼이 있는지 확인합니다.\n",
    "if 'Date' in data.columns:\n",
    "    # date 칼럼의 값들을 리스트로 변환합니다.\n",
    "# Date 칼럼의 값들을 리스트로 변환합니다.\n",
    "    date_list = data['Date'].tolist()\n",
    "\n",
    "# 날짜를 원하는 형식으로 변환합니다.\n",
    "formatted_date_list = []\n",
    "for date_str in date_list:\n",
    "    try:\n",
    "        # 날짜를 datetime 객체로 변환\n",
    "        date_obj = pd.to_datetime(date_str, format='%Y-%m-%d')\n",
    "        # datetime 객체를 원하는 문자열 형식으로 변환\n",
    "        formatted_date_str = date_obj.strftime('%Y%m%d')\n",
    "        formatted_date_list.append(formatted_date_str)\n",
    "    except ValueError as e:  # 날짜 변환 오류 처리\n",
    "        print(f\"Error converting date {date_str}: {e}\")\n",
    "        formatted_date_list.append(None)\n",
    "\n",
    "# 변환된 formatted_date_list의 처음 5개 값을 반환합니다.\n",
    "formatted_date_list[:5]"
   ]
  },
  {
   "cell_type": "code",
   "execution_count": 44,
   "metadata": {},
   "outputs": [
    {
     "ename": "KeyboardInterrupt",
     "evalue": "",
     "output_type": "error",
     "traceback": [
      "\u001b[1;31m---------------------------------------------------------------------------\u001b[0m",
      "\u001b[1;31mKeyboardInterrupt\u001b[0m                         Traceback (most recent call last)",
      "\u001b[1;32m~\\AppData\\Local\\Temp\\ipykernel_20720\\1180537055.py\u001b[0m in \u001b[0;36m<module>\u001b[1;34m\u001b[0m\n\u001b[0;32m     30\u001b[0m \u001b[0minput_xpath\u001b[0m \u001b[1;33m=\u001b[0m \u001b[1;34m'//input[@id=\"trdDd\"]'\u001b[0m\u001b[1;33m\u001b[0m\u001b[1;33m\u001b[0m\u001b[0m\n\u001b[0;32m     31\u001b[0m \u001b[0msearch_button_xpath\u001b[0m \u001b[1;33m=\u001b[0m \u001b[1;34m'//*[@id=\"jsSearchButton\"]'\u001b[0m\u001b[1;33m\u001b[0m\u001b[1;33m\u001b[0m\u001b[0m\n\u001b[1;32m---> 32\u001b[1;33m \u001b[0mclick_search_button_with_dates\u001b[0m\u001b[1;33m(\u001b[0m\u001b[0mdriver\u001b[0m\u001b[1;33m,\u001b[0m \u001b[0mformatted_date_list\u001b[0m\u001b[1;33m,\u001b[0m \u001b[0minput_xpath\u001b[0m\u001b[1;33m,\u001b[0m \u001b[0msearch_button_xpath\u001b[0m\u001b[1;33m)\u001b[0m\u001b[1;33m\u001b[0m\u001b[1;33m\u001b[0m\u001b[0m\n\u001b[0m\u001b[0;32m     33\u001b[0m \u001b[1;33m\u001b[0m\u001b[0m\n\u001b[0;32m     34\u001b[0m \u001b[1;31m# 오류 로그 출력\u001b[0m\u001b[1;33m\u001b[0m\u001b[1;33m\u001b[0m\u001b[0m\n",
      "\u001b[1;32m~\\AppData\\Local\\Temp\\ipykernel_20720\\1180537055.py\u001b[0m in \u001b[0;36mclick_search_button_with_dates\u001b[1;34m(driver, formatted_date_list, input_xpath, search_button_xpath)\u001b[0m\n\u001b[0;32m     20\u001b[0m             \u001b[0msearch_button\u001b[0m \u001b[1;33m=\u001b[0m \u001b[0mWebDriverWait\u001b[0m\u001b[1;33m(\u001b[0m\u001b[0mdriver\u001b[0m\u001b[1;33m,\u001b[0m \u001b[1;36m10\u001b[0m\u001b[1;33m)\u001b[0m\u001b[1;33m.\u001b[0m\u001b[0muntil\u001b[0m\u001b[1;33m(\u001b[0m\u001b[0mEC\u001b[0m\u001b[1;33m.\u001b[0m\u001b[0melement_to_be_clickable\u001b[0m\u001b[1;33m(\u001b[0m\u001b[1;33m(\u001b[0m\u001b[0mBy\u001b[0m\u001b[1;33m.\u001b[0m\u001b[0mXPATH\u001b[0m\u001b[1;33m,\u001b[0m \u001b[0msearch_button_xpath\u001b[0m\u001b[1;33m)\u001b[0m\u001b[1;33m)\u001b[0m\u001b[1;33m)\u001b[0m\u001b[1;33m\u001b[0m\u001b[1;33m\u001b[0m\u001b[0m\n\u001b[0;32m     21\u001b[0m             \u001b[0msearch_button\u001b[0m\u001b[1;33m.\u001b[0m\u001b[0mclick\u001b[0m\u001b[1;33m(\u001b[0m\u001b[1;33m)\u001b[0m\u001b[1;33m\u001b[0m\u001b[1;33m\u001b[0m\u001b[0m\n\u001b[1;32m---> 22\u001b[1;33m             \u001b[0mtime\u001b[0m\u001b[1;33m.\u001b[0m\u001b[0msleep\u001b[0m\u001b[1;33m(\u001b[0m\u001b[1;36m5\u001b[0m\u001b[1;33m)\u001b[0m  \u001b[1;31m# 페이지 로딩을 위해 잠시 대기\u001b[0m\u001b[1;33m\u001b[0m\u001b[1;33m\u001b[0m\u001b[0m\n\u001b[0m\u001b[0;32m     23\u001b[0m \u001b[1;33m\u001b[0m\u001b[0m\n\u001b[0;32m     24\u001b[0m         \u001b[1;32mexcept\u001b[0m \u001b[1;33m(\u001b[0m\u001b[0mNoSuchElementException\u001b[0m\u001b[1;33m,\u001b[0m \u001b[0mTimeoutException\u001b[0m\u001b[1;33m)\u001b[0m \u001b[1;32mas\u001b[0m \u001b[0me\u001b[0m\u001b[1;33m:\u001b[0m\u001b[1;33m\u001b[0m\u001b[1;33m\u001b[0m\u001b[0m\n",
      "\u001b[1;31mKeyboardInterrupt\u001b[0m: "
     ]
    }
   ],
   "source": [
    "from selenium import webdriver\n",
    "from selenium.webdriver.common.by import By\n",
    "from selenium.webdriver.support.ui import WebDriverWait\n",
    "from selenium.webdriver.support import expected_conditions as EC\n",
    "from selenium.common.exceptions import NoSuchElementException, TimeoutException\n",
    "\n",
    "# 오류 로그를 저장할 리스트\n",
    "error_log = []\n",
    "\n",
    "def click_search_button_with_dates(driver, formatted_date_list, input_xpath, search_button_xpath):\n",
    "    for date_str in formatted_date_list:\n",
    "        try:\n",
    "            # 날짜 입력 필드 찾기\n",
    "            date_input = WebDriverWait(driver, 10).until(EC.element_to_be_clickable((By.XPATH, input_xpath)))\n",
    "            # 날짜 입력 필드에 값 입력\n",
    "            date_input.clear()\n",
    "            date_input.send_keys(date_str)\n",
    "            \n",
    "            # 검색 버튼 클릭\n",
    "            search_button = WebDriverWait(driver, 10).until(EC.element_to_be_clickable((By.XPATH, search_button_xpath)))\n",
    "            search_button.click()\n",
    "            time.sleep(5)  # 페이지 로딩을 위해 잠시 대기\n",
    "            \n",
    "        except (NoSuchElementException, TimeoutException) as e:\n",
    "            print(f\"Error with date {date_str}: {e}\")\n",
    "            error_log.append(f\"Error with date {date_str}: {e}\")\n",
    "            continue  # 다음 날짜로 진행\n",
    "\n",
    "# 함수 호출\n",
    "input_xpath = '//input[@id=\"trdDd\"]'\n",
    "search_button_xpath = '//*[@id=\"jsSearchButton\"]'\n",
    "click_search_button_with_dates(driver, formatted_date_list, input_xpath, search_button_xpath)\n",
    "\n",
    "# 오류 로그 출력\n",
    "print(error_log)\n"
   ]
  },
  {
   "cell_type": "code",
   "execution_count": 58,
   "metadata": {},
   "outputs": [
    {
     "name": "stdout",
     "output_type": "stream",
     "text": [
      "       Date  1_PER  1_PBR  2_PER  2_PBR  3_PER  3_PBR  4_PER  4_PBR  5_PER  \\\n",
      "0  20070102   7.97   0.52    NaN   1.38   9.74   0.53  26.02    0.7    NaN   \n",
      "\n",
      "   5_PBR  6_PER  6_PBR  7_PER  7_PBR  8_PER  8_PBR  \n",
      "0   1.09   5.06   0.43    NaN    0.7   7.37   0.66  \n"
     ]
    }
   ],
   "source": [
    "from bs4 import BeautifulSoup\n",
    "import pandas as pd\n",
    "import numpy as np  # NaN 처리를 위해 import\n",
    "\n",
    "# 결과를 저장할 DataFrame 생성. 초기에는 'Date' 칼럼만 있는 상태입니다.\n",
    "result_df = pd.DataFrame(columns=['Date'])\n",
    "\n",
    "# 찾고자 하는 문자열 리스트\n",
    "target_strings = [\n",
    "    '코스피 200 건설', '코스피 200 중공업', '코스피 200 철강/소재', \n",
    "    '코스피 200 에너지/화학', '코스피 200 정보기술', \n",
    "    '코스피 200 금융', '코스피 200 생활소비재', '코스피 200 경기소비재'\n",
    "]\n",
    "\n",
    "# 각 문자열에 대해 칼럼을 추가합니다.\n",
    "for idx, _ in enumerate(target_strings, start=1):\n",
    "    result_df[f\"{idx}_PER\"] = None\n",
    "    result_df[f\"{idx}_PBR\"] = None\n",
    "\n",
    "def extract_and_save_data(driver, date_str):\n",
    "    # 현재 페이지의 소스를 가져옵니다.\n",
    "    page_source = driver.page_source\n",
    "    \n",
    "    # BeautifulSoup 객체를 생성합니다.\n",
    "    soup = BeautifulSoup(page_source, 'html.parser')\n",
    "    \n",
    "    # 결과를 임시로 저장할 딕셔너리\n",
    "    result_dict = {\"Date\": date_str}\n",
    "    \n",
    "    # 각 문자열에 대해 처리합니다.\n",
    "    for idx, target_string in enumerate(target_strings, start=1):\n",
    "        # 문자열을 포함하는 td 태그를 찾기\n",
    "        target_td = soup.find('td', string=target_string)\n",
    "        \n",
    "        if target_td:\n",
    "            # target_td의 형제들 중에서 data-bind=\"WT_PER\"와 \"WT_STKPRC_NETASST_RTO\" 속성을 가진 태그의 텍스트를 추출\n",
    "            per_tag = target_td.find_next_sibling(attrs={'data-bind': 'WT_PER'})\n",
    "            pbr_tag = target_td.find_next_sibling(attrs={'data-bind': 'WT_STKPRC_NETASST_RTO'})\n",
    "            \n",
    "            if per_tag and pbr_tag:\n",
    "                try:\n",
    "                    PER = float(per_tag.get_text())\n",
    "                except ValueError:  # 숫자로 변환할 수 없는 경우\n",
    "                    PER = np.nan  # NaN으로 설정\n",
    "                \n",
    "                try:\n",
    "                    PBR = float(pbr_tag.get_text())\n",
    "                except ValueError:  # 숫자로 변환할 수 없는 경우\n",
    "                    PBR = np.nan  # NaN으로 설정\n",
    "                \n",
    "                # 결과 딕셔너리에 값 추가\n",
    "                result_dict[f\"{idx}_PER\"] = PER\n",
    "                result_dict[f\"{idx}_PBR\"] = PBR\n",
    "            else:\n",
    "                print(f\"{date_str} 날짜, {target_string}에 대한 필요한 태그를 찾지 못했습니다.\")\n",
    "        else:\n",
    "            print(f\"{date_str} 날짜에 {target_string} 문자열을 포함하는 태그를 찾지 못했습니다.\")\n",
    "    \n",
    "    # 결과 DataFrame에 행을 추가합니다.\n",
    "    result_df.loc[len(result_df)] = result_dict\n",
    "\n",
    "# 테스트를 위해 formatted_date_list에서 첫 번째 날짜만 선택합니다.\n",
    "test_date_list = formatted_date_list[:1]\n",
    "\n",
    "# 함수 호출\n",
    "click_search_button_with_dates(driver, test_date_list, input_xpath, search_button_xpath)\n",
    "\n",
    "# 결과 DataFrame 출력\n",
    "print(result_df)\n",
    "\n",
    "# 결과를 CSV 파일로 저장\n",
    "result_df.to_csv('test_result.csv', index=False)\n"
   ]
  },
  {
   "cell_type": "code",
   "execution_count": 48,
   "metadata": {},
   "outputs": [
    {
     "name": "stdout",
     "output_type": "stream",
     "text": [
      "20070102 날짜에 대한 WT_PER 태그가 부족합니다.\n",
      "Empty DataFrame\n",
      "Columns: [Date, PER, PBR]\n",
      "Index: []\n"
     ]
    }
   ],
   "source": [
    "# 테스트를 위해 formatted_date_list에서 첫 번째 날짜만 선택합니다.\n",
    "test_date_list = formatted_date_list[:1]\n",
    "\n",
    "# 함수 호출\n",
    "click_search_button_with_dates(driver, test_date_list, input_xpath, search_button_xpath)\n",
    "\n",
    "# 결과 DataFrame 출력\n",
    "print(result_df)\n",
    "\n",
    "# 결과를 CSV 파일로 저장\n",
    "result_df.to_csv('test_result.csv', index=False)"
   ]
  },
  {
   "cell_type": "code",
   "execution_count": null,
   "metadata": {},
   "outputs": [],
   "source": [
    "<td class=\"CI-GRID-ALIGN-RIGHT\" data-bind=\"WT_PER\" data-name=\"WT_PER\">96.45</td>\n",
    "<td class=\"CI-GRID-ALIGN-RIGHT\" data-bind=\"WT_PER\" data-name=\"WT_PER\">25.30</td>\n",
    "<td class=\"CI-GRID-ALIGN-RIGHT\" data-bind=\"WT_PER\" data-name=\"WT_PER\">9.38</td>\n",
    "<td class=\"CI-GRID-ALIGN-RIGHT\" data-bind=\"WT_STKPRC_NETASST_RTO\" data-name=\"WT_STKPRC_NETASST_RTO\">0.82</td>"
   ]
  },
  {
   "cell_type": "code",
   "execution_count": null,
   "metadata": {},
   "outputs": [],
   "source": [
    "<td class=\"CI-GRID-ALIGN-LEFT\" data-bind=\"IDX_NM\" data-name=\"IDX_NM\">코스피 200 건설</td>\n",
    "여기서, '코스피 200 건설'은 내가 원하는 outerhtml이고, \n",
    "<td class=\"CI-GRID-ALIGN-RIGHT\" data-bind=\"WT_PER\" data-name=\"WT_PER\">9.38</td>\n",
    "<td class=\"CI-GRID-ALIGN-RIGHT\" data-bind=\"WT_STKPRC_NETASST_RTO\" data-name=\"WT_STKPRC_NETASST_RTO\">0.82</td>이건 내가 추출하고 싶은 숫자야.\n",
    "먼저 나오는 숫자를 PER : 9.38, 두번째로 나오는 숫자를 PBR : 25.30으로 저장하는 코드를 짜줘.\n",
    "이해가 안되는 부분이 있으면 코드를 생성하기 전에 내게 질문해줘."
   ]
  },
  {
   "cell_type": "code",
   "execution_count": 34,
   "metadata": {},
   "outputs": [],
   "source": [
    "from selenium.webdriver.support.ui import WebDriverWait\n",
    "from selenium.webdriver.support import expected_conditions as EC\n",
    "from selenium.common.exceptions import NoSuchElementException, TimeoutException\n",
    "\n",
    "def get_numeric_values(driver):\n",
    "    elements = driver.find_elements(By.CSS_SELECTOR, \"a[href='#']\")\n",
    "    numeric_values = [elem.text for elem in elements if elem.text.isdigit()]\n",
    "    return numeric_values\n",
    "\n",
    "def click_numeric_values_and_search(driver, numeric_values, calender_xpath, search_button_xpath):\n",
    "    calender = WebDriverWait(driver, 10).until(EC.element_to_be_clickable((By.XPATH, calender_xpath)))\n",
    "    \n",
    "    for value in numeric_values:\n",
    "        calender.click()\n",
    "        time.sleep(2)  # 페이지 로딩을 위해 잠시 대기\n",
    "        \n",
    "        try:\n",
    "            # numeric_value 클릭\n",
    "            numeric_element = WebDriverWait(driver, 10).until(EC.element_to_be_clickable((By.XPATH, f\"//a[text()='{value}' and @href='#']\")))\n",
    "            numeric_element.click()\n",
    "            time.sleep(2)\n",
    "            \n",
    "            # jsSearchButton 클릭\n",
    "            search_button = WebDriverWait(driver, 10).until(EC.element_to_be_clickable((By.XPATH, search_button_xpath)))\n",
    "            search_button.click()\n",
    "            time.sleep(5)  # 페이지 로딩을 위해 잠시 대기\n",
    "            \n",
    "        except (NoSuchElementException, TimeoutException) as e:\n",
    "            print(f\"Error: {e}\")\n",
    "            break\n",
    "\n",
    "# numeric_values 리스트 얻기\n",
    "numeric_values = get_numeric_values(driver)\n",
    "\n",
    "# numeric_values 리스트의 각 값에 대해 클릭하고 검색 수행\n",
    "click_numeric_values_and_search(driver, numeric_values, '//*[@id=\"MDCSTAT007_FORM\"]/div[2]/div/table/tbody/tr[3]/td/div/div/button', '//*[@id=\"jsSearchButton\"]')\n"
   ]
  }
 ],
 "metadata": {
  "kernelspec": {
   "display_name": "base",
   "language": "python",
   "name": "python3"
  },
  "language_info": {
   "codemirror_mode": {
    "name": "ipython",
    "version": 3
   },
   "file_extension": ".py",
   "mimetype": "text/x-python",
   "name": "python",
   "nbconvert_exporter": "python",
   "pygments_lexer": "ipython3",
   "version": "3.9.13"
  },
  "orig_nbformat": 4
 },
 "nbformat": 4,
 "nbformat_minor": 2
}
