{
 "cells": [
  {
   "cell_type": "code",
   "execution_count": 4,
   "metadata": {},
   "outputs": [
    {
     "name": "stdout",
     "output_type": "stream",
     "text": [
      "Columns ['1', '4', '5', '10'] have been dropped and the new CSV is saved at 1_new.csv.\n"
     ]
    }
   ],
   "source": [
    "import pandas as pd\n",
    "\n",
    "def drop_columns_and_save(input_file_path, output_file_path, columns_to_drop):\n",
    "    \"\"\"\n",
    "    This function reads a CSV file from input_file_path, drops specified columns, and \n",
    "    saves the new DataFrame to a CSV file at output_file_path.\n",
    "    \n",
    "    :param input_file_path: str, path to the input CSV file\n",
    "    :param output_file_path: str, path to save the new CSV file\n",
    "    :param columns_to_drop: list of str, names of the columns to drop\n",
    "    \"\"\"\n",
    "    try:\n",
    "        # Load the data.\n",
    "        df = pd.read_csv(input_file_path, encoding='cp949')\n",
    "        \n",
    "        # Drop the specified columns.\n",
    "        df.drop(columns=columns_to_drop, inplace=True)\n",
    "        \n",
    "        # Save the modified data to a new CSV file.\n",
    "        df.to_csv(output_file_path, index=False, encoding='cp949')\n",
    "        \n",
    "        print(f\"Columns {columns_to_drop} have been dropped and the new CSV is saved at {output_file_path}.\")\n",
    "        \n",
    "    except Exception as e:\n",
    "        print(f\"An error occurred: {e}\")\n",
    "\n",
    "# Example of function usage:\n",
    "input_file_path = 'datasets/ks200.csv'\n",
    "output_file_path = '1_new.csv'\n",
    "columns_to_drop = ['1', '4', '5', '10']  # Replace with the actual column names you want to drop\n",
    "\n",
    "# Uncomment below to use the function\n",
    "drop_columns_and_save(input_file_path, output_file_path, columns_to_drop)\n"
   ]
  },
  {
   "cell_type": "code",
   "execution_count": 3,
   "metadata": {},
   "outputs": [
    {
     "name": "stdout",
     "output_type": "stream",
     "text": [
      "Columns ['Unnamed: 0', '1', '2', '3', '4', '5', '6', '7', '8', '9', '10', '11'] have been dropped and the new CSV is saved at only_daily.csv.\n"
     ]
    }
   ],
   "source": [
    "import pandas as pd\n",
    "\n",
    "def drop_columns_and_save(input_file_path, output_file_path, columns_to_drop):\n",
    "    \"\"\"\n",
    "    This function reads a CSV file from input_file_path, drops specified columns, and \n",
    "    saves the new DataFrame to a CSV file at output_file_path.\n",
    "    \n",
    "    :param input_file_path: str, path to the input CSV file\n",
    "    :param output_file_path: str, path to save the new CSV file\n",
    "    :param columns_to_drop: list of str, names of the columns to drop\n",
    "    \"\"\"\n",
    "    try:\n",
    "        # Load the data.\n",
    "        df = pd.read_csv(input_file_path, encoding='cp949')\n",
    "        \n",
    "        # Drop the specified columns.\n",
    "        df.drop(columns=columns_to_drop, inplace=True)\n",
    "        \n",
    "        # Save the modified data to a new CSV file.\n",
    "        df.to_csv(output_file_path, index=False, encoding='cp949')\n",
    "        \n",
    "        print(f\"Columns {columns_to_drop} have been dropped and the new CSV is saved at {output_file_path}.\")\n",
    "        \n",
    "    except Exception as e:\n",
    "        print(f\"An error occurred: {e}\")\n",
    "\n",
    "# Example of function usage:\n",
    "input_file_path = 'merge.csv'\n",
    "output_file_path = 'only_daily.csv'\n",
    "columns_to_drop = ['Unnamed: 0', '1', '2', '3', '4', '5', '6', '7', '8', '9', '10', '11']  # Replace with the actual column names you want to drop\n",
    "\n",
    "# Uncomment below to use the function\n",
    "drop_columns_and_save(input_file_path, output_file_path, columns_to_drop)\n"
   ]
  }
 ],
 "metadata": {
  "kernelspec": {
   "display_name": "base",
   "language": "python",
   "name": "python3"
  },
  "language_info": {
   "codemirror_mode": {
    "name": "ipython",
    "version": 3
   },
   "file_extension": ".py",
   "mimetype": "text/x-python",
   "name": "python",
   "nbconvert_exporter": "python",
   "pygments_lexer": "ipython3",
   "version": "3.9.13"
  },
  "orig_nbformat": 4
 },
 "nbformat": 4,
 "nbformat_minor": 2
}
