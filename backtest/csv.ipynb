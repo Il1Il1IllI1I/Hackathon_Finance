{
 "cells": [
  {
   "cell_type": "code",
   "execution_count": 8,
   "metadata": {},
   "outputs": [
    {
     "name": "stdout",
     "output_type": "stream",
     "text": [
      "[*********************100%***********************]  1 of 1 completed\n"
     ]
    },
    {
     "name": "stderr",
     "output_type": "stream",
     "text": [
      "C:\\Users\\성현태\\AppData\\Local\\Temp\\ipykernel_2796\\2786280689.py:45: FutureWarning: The behavior of DataFrame concatenation with empty or all-NA entries is deprecated. In a future version, this will no longer exclude empty or all-NA columns when determining the result dtypes. To retain the old behavior, exclude the relevant entries before the concat operation.\n",
      "  result = pd.concat([result, pd.DataFrame([new_row])], ignore_index=True)\n",
      "C:\\Users\\성현태\\AppData\\Local\\Temp\\ipykernel_2796\\2786280689.py:32: FutureWarning: Series.__getitem__ treating keys as positions is deprecated. In a future version, integer keys will always be treated as labels (consistent with DataFrame behavior). To access a value by position, use `ser.iloc[pos]`\n",
      "  before_last = kospi_before_last[i-1].strftime('%Y-%m-%d')\n",
      "C:\\Users\\성현태\\AppData\\Local\\Temp\\ipykernel_2796\\2786280689.py:35: FutureWarning: Series.__getitem__ treating keys as positions is deprecated. In a future version, integer keys will always be treated as labels (consistent with DataFrame behavior). To access a value by position, use `ser.iloc[pos]`\n",
      "  before_last_val = kospi.loc[kospi_before_last[i-1]]['Adj Close']\n"
     ]
    }
   ],
   "source": [
    "import yfinance as yf\n",
    "import pandas as pd\n",
    "\n",
    "# yfinance를 사용하여 2010-01-01부터 2023-08-31까지의 KOSPI200 데이터를 가져옵니다.\n",
    "data = yf.download('^KS11', start='2010-01-01', end='2023-08-31')\n",
    "\n",
    "# 'Adj Close' 컬럼만 사용합니다.\n",
    "kospi = data[['Adj Close']].reset_index()\n",
    "\n",
    "# kospi의 Date를 인덱스로 설정합니다.\n",
    "kospi.set_index('Date', inplace=True)\n",
    "\n",
    "# 새로운 DataFrame을 생성합니다.\n",
    "result = pd.DataFrame(columns=['base_date', 'm_return', 'kospi', 'before_last'])\n",
    "\n",
    "# 각 월의 마지막 영업일만 선택합니다.\n",
    "kospi_month_end = kospi.resample('M').last()\n",
    "\n",
    "# 각 월의 두 번째로 마지막 영업일을 선택합니다.\n",
    "kospi_before_last = kospi.resample('M').apply(lambda x: x.index[-2] if len(x) > 1 else None).iloc[:, 0]\n",
    "\n",
    "for i in range(len(kospi_month_end)):\n",
    "    base_date = kospi_month_end.index[i]\n",
    "    kospi_val = round(kospi_month_end.iloc[i]['Adj Close'], 3)\n",
    "    \n",
    "    # before_last 값을 찾습니다.\n",
    "    if i == 0:\n",
    "        before_last = None  \n",
    "        m_return = None  \n",
    "    else:\n",
    "        # 이전 행의 데이터를 참조합니다.\n",
    "        before_last = kospi_before_last[i-1].strftime('%Y-%m-%d')\n",
    "        \n",
    "        # 이전 before_last 값을 참조하여 수익률을 계산합니다: (이번 달 kospi - 지난 달 kospi) / 지난 달 kospi\n",
    "        before_last_val = kospi.loc[kospi_before_last[i-1]]['Adj Close']\n",
    "        m_return = round((kospi_val - before_last_val) / before_last_val, 3)\n",
    "    \n",
    "    # 결과를 저장합니다.\n",
    "    new_row = {\n",
    "        'base_date': base_date.strftime('%Y-%m-%d'),\n",
    "        'm_return': m_return,\n",
    "        'kospi': kospi_val,\n",
    "        'before_last': before_last\n",
    "    }\n",
    "    result = pd.concat([result, pd.DataFrame([new_row])], ignore_index=True)\n",
    "\n",
    "# DataFrame을 확인하거나 CSV로 저장할 수 있습니다.\n",
    "result.to_csv('kospi_month_end.csv', index=False)\n"
   ]
  },
  {
   "cell_type": "code",
   "execution_count": 9,
   "metadata": {},
   "outputs": [
    {
     "data": {
      "text/html": [
       "<div>\n",
       "<style scoped>\n",
       "    .dataframe tbody tr th:only-of-type {\n",
       "        vertical-align: middle;\n",
       "    }\n",
       "\n",
       "    .dataframe tbody tr th {\n",
       "        vertical-align: top;\n",
       "    }\n",
       "\n",
       "    .dataframe thead th {\n",
       "        text-align: right;\n",
       "    }\n",
       "</style>\n",
       "<table border=\"1\" class=\"dataframe\">\n",
       "  <thead>\n",
       "    <tr style=\"text-align: right;\">\n",
       "      <th></th>\n",
       "      <th>base_date</th>\n",
       "      <th>m_return</th>\n",
       "      <th>kospi</th>\n",
       "      <th>before_last</th>\n",
       "    </tr>\n",
       "  </thead>\n",
       "  <tbody>\n",
       "    <tr>\n",
       "      <th>0</th>\n",
       "      <td>2010-01-31</td>\n",
       "      <td>NaN</td>\n",
       "      <td>1602.43</td>\n",
       "      <td>NaN</td>\n",
       "    </tr>\n",
       "    <tr>\n",
       "      <th>1</th>\n",
       "      <td>2010-02-28</td>\n",
       "      <td>-0.029</td>\n",
       "      <td>1594.58</td>\n",
       "      <td>2010-01-28</td>\n",
       "    </tr>\n",
       "    <tr>\n",
       "      <th>2</th>\n",
       "      <td>2010-03-31</td>\n",
       "      <td>0.066</td>\n",
       "      <td>1692.85</td>\n",
       "      <td>2010-02-25</td>\n",
       "    </tr>\n",
       "    <tr>\n",
       "      <th>3</th>\n",
       "      <td>2010-04-30</td>\n",
       "      <td>0.024</td>\n",
       "      <td>1741.56</td>\n",
       "      <td>2010-03-30</td>\n",
       "    </tr>\n",
       "    <tr>\n",
       "      <th>4</th>\n",
       "      <td>2010-05-31</td>\n",
       "      <td>-0.050</td>\n",
       "      <td>1641.25</td>\n",
       "      <td>2010-04-29</td>\n",
       "    </tr>\n",
       "  </tbody>\n",
       "</table>\n",
       "</div>"
      ],
      "text/plain": [
       "    base_date  m_return    kospi before_last\n",
       "0  2010-01-31       NaN  1602.43         NaN\n",
       "1  2010-02-28    -0.029  1594.58  2010-01-28\n",
       "2  2010-03-31     0.066  1692.85  2010-02-25\n",
       "3  2010-04-30     0.024  1741.56  2010-03-30\n",
       "4  2010-05-31    -0.050  1641.25  2010-04-29"
      ]
     },
     "execution_count": 9,
     "metadata": {},
     "output_type": "execute_result"
    }
   ],
   "source": [
    "import pandas as pd\n",
    "\n",
    "# 파일 읽기\n",
    "kospi_month_end = pd.read_csv('kospi_month_end.csv')\n",
    "kospi_month_end.head()\n"
   ]
  },
  {
   "cell_type": "code",
   "execution_count": 10,
   "metadata": {},
   "outputs": [],
   "source": [
    "# 'before_last' 컬럼의 값을 한 행 위로 옮깁니다.\n",
    "kospi_month_end['before_last'] = kospi_month_end['before_last'].shift(-1)\n",
    "\n",
    "# 결과 확인\n",
    "kospi_month_end.head()\n",
    "kospi_month_end.to_csv('real.csv', index=False)\n"
   ]
  }
 ],
 "metadata": {
  "kernelspec": {
   "display_name": "base",
   "language": "python",
   "name": "python3"
  },
  "language_info": {
   "codemirror_mode": {
    "name": "ipython",
    "version": 3
   },
   "file_extension": ".py",
   "mimetype": "text/x-python",
   "name": "python",
   "nbconvert_exporter": "python",
   "pygments_lexer": "ipython3",
   "version": "3.9.13"
  }
 },
 "nbformat": 4,
 "nbformat_minor": 2
}
