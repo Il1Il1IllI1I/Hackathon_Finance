{
 "cells": [
  {
   "cell_type": "code",
   "execution_count": 1,
   "metadata": {},
   "outputs": [
    {
     "data": {
      "text/html": [
       "<div>\n",
       "<style scoped>\n",
       "    .dataframe tbody tr th:only-of-type {\n",
       "        vertical-align: middle;\n",
       "    }\n",
       "\n",
       "    .dataframe tbody tr th {\n",
       "        vertical-align: top;\n",
       "    }\n",
       "\n",
       "    .dataframe thead th {\n",
       "        text-align: right;\n",
       "    }\n",
       "</style>\n",
       "<table border=\"1\" class=\"dataframe\">\n",
       "  <thead>\n",
       "    <tr style=\"text-align: right;\">\n",
       "      <th></th>\n",
       "      <th>before_last</th>\n",
       "    </tr>\n",
       "    <tr>\n",
       "      <th>base_date</th>\n",
       "      <th></th>\n",
       "    </tr>\n",
       "  </thead>\n",
       "  <tbody>\n",
       "    <tr>\n",
       "      <th>2011-04-29</th>\n",
       "      <td>2011-04-28</td>\n",
       "    </tr>\n",
       "    <tr>\n",
       "      <th>2011-05-31</th>\n",
       "      <td>2011-05-27</td>\n",
       "    </tr>\n",
       "    <tr>\n",
       "      <th>2011-06-30</th>\n",
       "      <td>2011-06-29</td>\n",
       "    </tr>\n",
       "    <tr>\n",
       "      <th>2011-07-29</th>\n",
       "      <td>2011-07-28</td>\n",
       "    </tr>\n",
       "    <tr>\n",
       "      <th>2011-08-31</th>\n",
       "      <td>2011-08-30</td>\n",
       "    </tr>\n",
       "  </tbody>\n",
       "</table>\n",
       "</div>"
      ],
      "text/plain": [
       "           before_last\n",
       "base_date             \n",
       "2011-04-29  2011-04-28\n",
       "2011-05-31  2011-05-27\n",
       "2011-06-30  2011-06-29\n",
       "2011-07-29  2011-07-28\n",
       "2011-08-31  2011-08-30"
      ]
     },
     "execution_count": 1,
     "metadata": {},
     "output_type": "execute_result"
    }
   ],
   "source": [
    "import pandas as pd\n",
    "\n",
    "# 데이터 불러오기\n",
    "ks200_data = pd.read_csv('../main/ks200.csv', encoding='utf-8')\n",
    "\n",
    "# '날짜'를 datetime 형식으로 변환 및 정렬\n",
    "ks200_data['날짜'] = pd.to_datetime(ks200_data['날짜'], format='%Y-%m-%d')\n",
    "ks200_data = ks200_data.sort_values(by='날짜')\n",
    "\n",
    "# 연-월 정보 추출\n",
    "ks200_data['year_month'] = ks200_data['날짜'].dt.to_period('M')\n",
    "\n",
    "# 각 월의 마지막 두 거래일 추출\n",
    "last_two_trading_days = ks200_data.groupby('year_month').tail(2)\n",
    "\n",
    "# 'base_date'와 'before_last'를 저장할 새로운 데이터프레임 생성\n",
    "trading_days_v2 = pd.DataFrame()\n",
    "\n",
    "# 'before_last'와 'base_date' 추출 및 저장\n",
    "trading_days_v2['before_last'] = last_two_trading_days.groupby('year_month').nth(0)['날짜'].values\n",
    "trading_days_v2['base_date'] = last_two_trading_days.groupby('year_month').nth(1)['날짜'].values\n",
    "\n",
    "# 'base_date'를 인덱스로 설정\n",
    "trading_days_v2.set_index('base_date', inplace=True)\n",
    "\n",
    "# 결과를 새로운 CSV 파일로 저장\n",
    "trading_days_v2.to_csv('new.csv', encoding='utf-8-sig')\n",
    "\n",
    "# 결과의 처음 몇 행을 출력\n",
    "trading_days_v2.head()\n"
   ]
  },
  {
   "cell_type": "code",
   "execution_count": 5,
   "metadata": {},
   "outputs": [
    {
     "name": "stdout",
     "output_type": "stream",
     "text": [
      "           before_last        KOSPI  m_return\n",
      "base_date                                    \n",
      "2011-04-29  2011-04-28  2192.360107 -0.007241\n",
      "2011-05-31  2011-05-27  2142.469971  0.020107\n",
      "2011-06-30  2011-06-29  2100.689941  0.002994\n",
      "2011-07-29  2011-07-28  2133.209961 -0.010502\n",
      "2011-08-31  2011-08-30  1880.109985  0.019682\n"
     ]
    }
   ],
   "source": [
    "import yfinance as yf\n",
    "import pandas as pd\n",
    "\n",
    "# yfinance 라이브러리를 사용하여 KOSPI 지수 데이터를 가져옵니다.\n",
    "kospi = yf.download('^KS11', start='2011-04-01', end='2023-10-01', progress=False)\n",
    "\n",
    "# 닫는 가격만 사용합니다.\n",
    "kospi = kospi['Close']\n",
    "\n",
    "# 'trading_days_v2.csv' 데이터를 불러옵니다.\n",
    "trading_days_v2 = pd.read_csv('new.csv', parse_dates=['base_date', 'before_last'])\n",
    "trading_days_v2.set_index('base_date', inplace=True)\n",
    "\n",
    "# 각 월별 KOSPI 지수를 계산합니다.\n",
    "trading_days_v2['KOSPI'] = kospi.loc[trading_days_v2.index]\n",
    "# m_return을 계산합니다. \n",
    "# (이번 달 KOSPI 지수 / 지난 달 KOSPI 지수) - 1\n",
    "trading_days_v2['m_return'] = (kospi.loc[trading_days_v2.index].values / kospi.loc[trading_days_v2['before_last'].values].values) - 1\n",
    "# 결과를 확인합니다.\n",
    "print(trading_days_v2.head())\n",
    "\n",
    "# 결과를 csv 파일로 저장합니다.\n",
    "trading_days_v2.to_csv('2.csv', encoding='utf-8-sig')\n"
   ]
  }
 ],
 "metadata": {
  "kernelspec": {
   "display_name": "base",
   "language": "python",
   "name": "python3"
  },
  "language_info": {
   "codemirror_mode": {
    "name": "ipython",
    "version": 3
   },
   "file_extension": ".py",
   "mimetype": "text/x-python",
   "name": "python",
   "nbconvert_exporter": "python",
   "pygments_lexer": "ipython3",
   "version": "3.9.13"
  }
 },
 "nbformat": 4,
 "nbformat_minor": 2
}
