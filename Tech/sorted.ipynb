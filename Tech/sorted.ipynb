{
 "cells": [
  {
   "cell_type": "code",
   "execution_count": 2,
   "metadata": {},
   "outputs": [
    {
     "name": "stdout",
     "output_type": "stream",
     "text": [
      "Data saved to Industry_csv/con_tech_indicators_sorted_sorted11.csv\n"
     ]
    }
   ],
   "source": [
    "import pandas as pd\n",
    "\n",
    "def sort_csv_by_date(file_path, output_path):\n",
    "    # 데이터 로드\n",
    "    data = pd.read_csv(file_path)\n",
    "    data['Date'] = pd.to_datetime(data['Date'])\n",
    "    \n",
    "    # 날짜를 기준으로 내림차순 정렬\n",
    "    data_sorted = data.sort_values(by='Date', ascending=True)\n",
    "    \n",
    "    # 결과를 CSV로 저장\n",
    "    data_sorted.to_csv(output_path, index=False)\n",
    "    print(f\"Data saved to {output_path}\")\n",
    "\n",
    "# 파일 이름 리스트\n",
    "file_names = [\n",
    "    '/path_to_save_scaled_files/dis_tech_indicators_sorted.csv',\n",
    "]\n",
    "\n",
    "# 모든 파일에 대해 정렬과 저장을 수행\n",
    "for file_name in file_names:\n",
    "    input_path = f'{file_name}'\n",
    "    output_path = f'{file_name.replace(\".csv\", \"_sorted.csv\")}'\n",
    "    sort_csv_by_date(input_path, output_path)\n"
   ]
  }
 ],
 "metadata": {
  "kernelspec": {
   "display_name": "base",
   "language": "python",
   "name": "python3"
  },
  "language_info": {
   "codemirror_mode": {
    "name": "ipython",
    "version": 3
   },
   "file_extension": ".py",
   "mimetype": "text/x-python",
   "name": "python",
   "nbconvert_exporter": "python",
   "pygments_lexer": "ipython3",
   "version": "3.9.13"
  }
 },
 "nbformat": 4,
 "nbformat_minor": 2
}
